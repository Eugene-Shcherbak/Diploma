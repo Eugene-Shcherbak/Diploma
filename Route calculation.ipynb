{
 "cells": [
  {
   "cell_type": "code",
   "execution_count": 2,
   "id": "2bfe5d23-af8e-4da5-a4c1-747903c96e08",
   "metadata": {},
   "outputs": [],
   "source": [
    "import osmnx as ox\n",
    "import networkx as nx"
   ]
  },
  {
   "cell_type": "code",
   "execution_count": 3,
   "id": "b6cdb41d-e859-47ab-96a7-e50f5fb5eed4",
   "metadata": {},
   "outputs": [
    {
     "name": "stderr",
     "output_type": "stream",
     "text": [
      "C:\\Users\\Ryzen\\AppData\\Local\\Temp\\ipykernel_21036\\1442467303.py:2: FutureWarning: The `get_undirected` function is deprecated and will be removed in the v2.0.0 release. Replace it with `convert.to_undirected` instead. See the OSMnx v2 migration guide: https://github.com/gboeing/osmnx/issues/1123\n",
      "  G = ox.utils_graph.get_undirected(G)\n"
     ]
    }
   ],
   "source": [
    "G = ox.graph_from_place(\"Lviv Oblast, Ukraine\", network_type='drive')\n",
    "G = ox.utils_graph.get_undirected(G)"
   ]
  },
  {
   "cell_type": "code",
   "execution_count": 18,
   "id": "6b90b7b8-0654-4c72-bde1-a7164984b4a1",
   "metadata": {},
   "outputs": [],
   "source": [
    "import osmnx as ox\n",
    "import networkx as nx\n",
    "import geopandas as gpd\n",
    "\n",
    "def process_route(graph, route, return_length=True):\n",
    "    total_length = 0.0\n",
    "    geometry_list = []\n",
    "\n",
    "    for u, v in zip(route[:-1], route[1:]):\n",
    "        try:\n",
    "            edge_data = graph.get_edge_data(u, v)\n",
    "            if edge_data is None:\n",
    "                edge_data = graph.get_edge_data(v, u)\n",
    "                if edge_data is None:\n",
    "                    continue\n",
    "\n",
    "            best_edge = min(edge_data.values(), key=lambda x: x.get(\"length\", float(\"inf\")))\n",
    "            total_length += best_edge.get(\"length\", 0.0)\n",
    "\n",
    "        except Exception as e:\n",
    "            continue\n",
    "\n",
    "    results = []\n",
    "    if return_length:\n",
    "        results.append(total_length)\n",
    "    if results:\n",
    "        return results if len(results) > 1 else results[0]\n",
    "    return None"
   ]
  },
  {
   "cell_type": "code",
   "execution_count": 22,
   "id": "34cefa2f-0a4e-458e-9c27-5e4e7692dbde",
   "metadata": {},
   "outputs": [
    {
     "name": "stdout",
     "output_type": "stream",
     "text": [
      "Total route length: 3952.10 meters\n"
     ]
    }
   ],
   "source": [
    "route = [262066524, 343668641, 384957450, 262175755, 262176143, 268679119, 341108480, 818555491,\n",
    "         818555031, 1482256204, 387999430, 387999427, 261713201, 261713221, 387999449, 261713223, \n",
    "         2662896216, 261713225, 422123830, 261713224, 30524161, 384962434, 366568332, 268680976, \n",
    "         261713450, 30521796, 30518784, 476665669, 476665666, 30525921, 476666190]\n",
    "\n",
    "\n",
    "length = process_route(G, route, return_length=True)\n",
    "print(f\"Total route length: {length:.2f} meters\")"
   ]
  }
 ],
 "metadata": {
  "kernelspec": {
   "display_name": "Python 3 (ipykernel)",
   "language": "python",
   "name": "python3"
  },
  "language_info": {
   "codemirror_mode": {
    "name": "ipython",
    "version": 3
   },
   "file_extension": ".py",
   "mimetype": "text/x-python",
   "name": "python",
   "nbconvert_exporter": "python",
   "pygments_lexer": "ipython3",
   "version": "3.10.6"
  }
 },
 "nbformat": 4,
 "nbformat_minor": 5
}
